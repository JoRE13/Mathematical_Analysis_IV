{
 "cells": [
  {
   "cell_type": "code",
   "execution_count": 18,
   "metadata": {},
   "outputs": [],
   "source": [
    "import numpy as np\n",
    "import scipy.sparse as sp"
   ]
  },
  {
   "cell_type": "code",
   "execution_count": null,
   "metadata": {},
   "outputs": [],
   "source": [
    "def change(j: int,k: int,n: int):\n",
    "    '''\n",
    "    Fall sem að breytir tvívíðri stikun (j,k) í einvíða i\n",
    "    \n",
    "    Inntak:\n",
    "        j: x-vísir tvívíðu breytu\n",
    "        k: y-vísir tvívíðu breytu\n",
    "        n: fjöldi punkta í x-stefnu\n",
    "    \n",
    "    Úttak:\n",
    "        i: einvíða hnitið\n",
    "    '''\n",
    "    i = j+k*n\n",
    "    return i"
   ]
  },
  {
   "cell_type": "code",
   "execution_count": 21,
   "metadata": {},
   "outputs": [],
   "source": [
    "def varmadreifing(Lx: float, Ly: float, N: int, M: int, L: float, delta: float, P: float, K: float, H: float, ub: float):\n",
    "    '''\n",
    "    Fall varmadreifing sem að nálgar lausnina á varmaleiðniverkefninu (1) lýst hér að ofan\n",
    "    \n",
    "    Inntak:\n",
    "        Lx: Lárétt lengd plötu (cm)\n",
    "        Ly: Lóðrétt lengd plötu (cm)\n",
    "        N: Fjöldi hlutbila á x-ási\n",
    "        M: Fjöldi hlutbila á y-ási\n",
    "        L: Lengd svæðis sem inn berst um varmaafl (cm)\n",
    "        delta: Þykkt plötu (cm)\n",
    "        P: Varmaafl inn í plötu (W)\n",
    "        K: Varmaleiðnistuðull plötu (W/cm C)\n",
    "        H: Útþennslustuðull burðarvarma (W/cm C)\n",
    "        ub: Rétt umhverfishitastig\n",
    "     \n",
    "    Úttak:\n",
    "        X_net: \n",
    "        Y_net:\n",
    "        w:    \n",
    "    '''\n",
    "    \n",
    "    # Finnum alla punkta x_i og y_i \n",
    "    xi = np.linspace(0,Lx,N+1)\n",
    "    yi = np.linspace(0,Ly,M+1)\n",
    "    \n",
    "    # Reiknum stuðla h_x og h_y\n",
    "    hx = Lx / N\n",
    "    hy = Ly / N\n",
    "    \n",
    "    # Táknmál í edBook gefur\n",
    "    q = (2*H) / (delta*K)\n",
    "    \n",
    "    # Setjum upp fylki A og vigur b\n",
    "    n = N+1\n",
    "    m = M+1\n",
    "    \n",
    "    A = sp.lil_matrix((n*m,n*m))\n",
    "    b = np.zeros(n*m)\n",
    "    \n",
    "    # Metum gildin í innri punktum netsins\n",
    "    for j in range(1,n-2):\n",
    "        for k in range(1,m-2):\n",
    "            i = change(j,k,n)\n",
    "    \n",
    "    return None"
   ]
  },
  {
   "cell_type": "code",
   "execution_count": 22,
   "metadata": {},
   "outputs": [
    {
     "ename": "ZeroDivisionError",
     "evalue": "division by zero",
     "output_type": "error",
     "traceback": [
      "\u001b[0;31m---------------------------------------------------------------------------\u001b[0m",
      "\u001b[0;31mZeroDivisionError\u001b[0m                         Traceback (most recent call last)",
      "Cell \u001b[0;32mIn[22], line 1\u001b[0m\n\u001b[0;32m----> 1\u001b[0m \u001b[43mvarmadreifing\u001b[49m\u001b[43m(\u001b[49m\u001b[38;5;241;43m10\u001b[39;49m\u001b[43m,\u001b[49m\u001b[38;5;241;43m8\u001b[39;49m\u001b[43m,\u001b[49m\u001b[38;5;241;43m10\u001b[39;49m\u001b[43m,\u001b[49m\u001b[38;5;241;43m2\u001b[39;49m\u001b[43m,\u001b[49m\u001b[38;5;241;43m0\u001b[39;49m\u001b[43m,\u001b[49m\u001b[38;5;241;43m0\u001b[39;49m\u001b[43m,\u001b[49m\u001b[38;5;241;43m0\u001b[39;49m\u001b[43m,\u001b[49m\u001b[38;5;241;43m0\u001b[39;49m\u001b[43m,\u001b[49m\u001b[38;5;241;43m0\u001b[39;49m\u001b[43m,\u001b[49m\u001b[38;5;241;43m0\u001b[39;49m\u001b[43m)\u001b[49m\n",
      "Cell \u001b[0;32mIn[21], line 32\u001b[0m, in \u001b[0;36mvarmadreifing\u001b[0;34m(Lx, Ly, N, M, L, delta, P, K, H, ub)\u001b[0m\n\u001b[1;32m     29\u001b[0m hy \u001b[38;5;241m=\u001b[39m Ly \u001b[38;5;241m/\u001b[39m N\n\u001b[1;32m     31\u001b[0m \u001b[38;5;66;03m# Táknmál í edBook gefur\u001b[39;00m\n\u001b[0;32m---> 32\u001b[0m q \u001b[38;5;241m=\u001b[39m \u001b[43m(\u001b[49m\u001b[38;5;241;43m2\u001b[39;49m\u001b[38;5;241;43m*\u001b[39;49m\u001b[43mH\u001b[49m\u001b[43m)\u001b[49m\u001b[43m \u001b[49m\u001b[38;5;241;43m/\u001b[39;49m\u001b[43m \u001b[49m\u001b[43m(\u001b[49m\u001b[43mdelta\u001b[49m\u001b[38;5;241;43m*\u001b[39;49m\u001b[43mK\u001b[49m\u001b[43m)\u001b[49m\n\u001b[1;32m     34\u001b[0m \u001b[38;5;66;03m# Setjum upp fylki A og vigur b\u001b[39;00m\n\u001b[1;32m     35\u001b[0m n \u001b[38;5;241m=\u001b[39m N\u001b[38;5;241m+\u001b[39m\u001b[38;5;241m1\u001b[39m\n",
      "\u001b[0;31mZeroDivisionError\u001b[0m: division by zero"
     ]
    }
   ],
   "source": [
    "varmadreifing(10,8,10,2,0,0,0,0,0,0)\n"
   ]
  }
 ],
 "metadata": {
  "kernelspec": {
   "display_name": "Python 3",
   "language": "python",
   "name": "python3"
  },
  "language_info": {
   "codemirror_mode": {
    "name": "ipython",
    "version": 3
   },
   "file_extension": ".py",
   "mimetype": "text/x-python",
   "name": "python",
   "nbconvert_exporter": "python",
   "pygments_lexer": "ipython3",
   "version": "3.9.6"
  }
 },
 "nbformat": 4,
 "nbformat_minor": 2
}
