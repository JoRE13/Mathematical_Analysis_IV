{
 "cells": [
  {
   "cell_type": "code",
   "execution_count": 1,
   "metadata": {},
   "outputs": [],
   "source": [
    "import numpy as np"
   ]
  },
  {
   "cell_type": "code",
   "execution_count": 17,
   "metadata": {},
   "outputs": [],
   "source": [
    "def varmadreifing(Lx: float, Ly: float, N: int, M: int, L: float, delta: float, P: float, K: float, H: float, ub: float):\n",
    "    '''\n",
    "    Fall varmadreifing sem að nálgar lausnina á varmaleiðniverkefninu (1) lýst hér að ofan\n",
    "    \n",
    "    Inntak:\n",
    "        Lx: Lárétt lengd plötu (cm)\n",
    "        Ly: Lóðrétt lengd plötu (cm)\n",
    "        N: Fjöldi hlutbila á x-ási\n",
    "        M: Fjöldi hlutbila á y-ási\n",
    "        L: Lengd svæðis sem inn berst um varmaafl (cm)\n",
    "        delta: Þykkt plötu (cm)\n",
    "        P: Varmaafl inn í plötu (W)\n",
    "        K: Varmaleiðnistuðull plötu (W/cm C)\n",
    "        H: Útþennslustuðull burðarvarma (W/cm C)\n",
    "        ub: Rétt umhverfishitastig\n",
    "     \n",
    "    Úttak:\n",
    "        X_net: \n",
    "        Y_net:\n",
    "        w:    \n",
    "    '''\n",
    "    \n",
    "    # Finnum alla punkta x_i og y_i \n",
    "    xi = np.linspace(0,Lx,N+1)\n",
    "    yi = np.linspace(0,Ly,M+1)\n",
    "    \n",
    "    # Reiknum stuðla h_x og h_y\n",
    "    hx = Lx / N\n",
    "    hy = Ly / N\n",
    "    \n",
    "    # Táknmál í edBook gefur\n",
    "    q = (2*H) / (delta*K)\n",
    "    \n",
    "    # Setjum upp fylki A og vigur b\n",
    "    n = N+1\n",
    "    m = M+1\n",
    "    \n",
    "    A = np.zeros((n*m,n*m))\n",
    "    b = np.zeros(n*m)\n",
    "    \n",
    "    # Metum gildin í innri punktum netsins\n",
    "    for i in range(1,n-2):\n",
    "        c = i\n",
    "    \n",
    "    return None"
   ]
  },
  {
   "cell_type": "code",
   "execution_count": 15,
   "metadata": {},
   "outputs": [],
   "source": [
    "varmadreifing(10,8,10,2.4,0,0,0,0,0,0)\n"
   ]
  }
 ],
 "metadata": {
  "kernelspec": {
   "display_name": "Python 3",
   "language": "python",
   "name": "python3"
  },
  "language_info": {
   "codemirror_mode": {
    "name": "ipython",
    "version": 3
   },
   "file_extension": ".py",
   "mimetype": "text/x-python",
   "name": "python",
   "nbconvert_exporter": "python",
   "pygments_lexer": "ipython3",
   "version": "3.9.6"
  }
 },
 "nbformat": 4,
 "nbformat_minor": 2
}
